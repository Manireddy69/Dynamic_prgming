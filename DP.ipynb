{
  "nbformat": 4,
  "nbformat_minor": 0,
  "metadata": {
    "colab": {
      "provenance": [],
      "authorship_tag": "ABX9TyOpvjx/b33/M9eR2BgW0T5e",
      "include_colab_link": true
    },
    "kernelspec": {
      "name": "python3",
      "display_name": "Python 3"
    },
    "language_info": {
      "name": "python"
    }
  },
  "cells": [
    {
      "cell_type": "markdown",
      "metadata": {
        "id": "view-in-github",
        "colab_type": "text"
      },
      "source": [
        "<a href=\"https://colab.research.google.com/github/Manireddy69/Dynamic_prgming/blob/main/DP.ipynb\" target=\"_parent\"><img src=\"https://colab.research.google.com/assets/colab-badge.svg\" alt=\"Open In Colab\"/></a>"
      ]
    },
    {
      "cell_type": "code",
      "source": [
        "\n",
        "x = {1 : 3,\n",
        "     2 : 4}\n",
        "y = {\"name\": \"name\",\n",
        "     \"place\" : \"HYD\",\n",
        "     \"state\" : \"TS\",\n",
        "     \"place\" : \"HYD\"}\n",
        "x[2]\n",
        "y # dictinaries doen't allow duplicates\n",
        "print(y)"
      ],
      "metadata": {
        "colab": {
          "base_uri": "https://localhost:8080/"
        },
        "id": "-N1wHKW8XshE",
        "outputId": "cb4a424c-a36f-439b-ea6a-16897439dc7f"
      },
      "execution_count": null,
      "outputs": [
        {
          "output_type": "stream",
          "name": "stdout",
          "text": [
            "{'name': 'name', 'place': 'HYD', 'state': 'TS'}\n"
          ]
        }
      ]
    },
    {
      "cell_type": "code",
      "execution_count": null,
      "metadata": {
        "colab": {
          "base_uri": "https://localhost:8080/"
        },
        "id": "tFjOjT57WRk2",
        "outputId": "524bb165-67a3-4bb7-f0df-a62c903c8ec5"
      },
      "outputs": [
        {
          "output_type": "execute_result",
          "data": {
            "text/plain": [
              "5"
            ]
          },
          "metadata": {},
          "execution_count": 2
        }
      ],
      "source": [
        "def fib(n, memo = {}):\n",
        "  if n in memo :\n",
        "    return memo[n]\n",
        "  if n<= 1:\n",
        "    return n\n",
        "  memo[n] = fib(n-1, memo) + fib(n-2, memo)\n",
        "  return memo[n]\n",
        "\n",
        "fib(5) # 5th term of fibnacci series, which is 5(0,1,1,2,3,5)"
      ]
    },
    {
      "cell_type": "code",
      "source": [
        "#bottom up approach\n",
        "def fib_s(n):\n",
        "  if n<= 2:\n",
        "    return 1\n",
        "  fib_s = [0] * (n+1) #it set's (n+1) into 0's\n",
        "  fib_s[1], fib_s[2]  = 1,1\n",
        "  for i in range(3, n+1):\n",
        "    fib_s[i] = fib_s[i-1] + fib_s[i-2]\n",
        "  return fib_s[n]\n",
        "fib_s(5)"
      ],
      "metadata": {
        "colab": {
          "base_uri": "https://localhost:8080/"
        },
        "id": "Fmc0c0eWaRdZ",
        "outputId": "07192f39-c417-465c-f789-72a5c7391d34"
      },
      "execution_count": null,
      "outputs": [
        {
          "output_type": "execute_result",
          "data": {
            "text/plain": [
              "5"
            ]
          },
          "metadata": {},
          "execution_count": 3
        }
      ]
    },
    {
      "cell_type": "code",
      "source": [
        "S = []  # Create empty stack S\n",
        "x = 0\n",
        "flag = 0\n",
        "sum_ = 0\n",
        "\n",
        "S.append(x)  # Push x onto S\n",
        "\n",
        "while len(S) > 0:  # while S is not empty\n",
        "    if flag == 0:\n",
        "        x = x + 1\n",
        "        S.append(x)\n",
        "    if x == 8:\n",
        "        flag = 1\n",
        "    if flag == 1:\n",
        "        x = S.pop()\n",
        "        if x % 2 != 0:  # if x is odd\n",
        "            S.pop()  # Pop another value (not used)\n",
        "        sum_ = sum_ + x\n",
        "\n",
        "print(sum_)  # Output sum"
      ],
      "metadata": {
        "colab": {
          "base_uri": "https://localhost:8080/"
        },
        "id": "FznFX2vXVLgy",
        "outputId": "30e2e782-b90b-4d7f-867f-e916aef9b007"
      },
      "execution_count": null,
      "outputs": [
        {
          "output_type": "stream",
          "name": "stdout",
          "text": [
            "24\n"
          ]
        }
      ]
    },
    {
      "cell_type": "code",
      "source": [
        "x = []\n",
        "x=[0] * 4\n",
        "x"
      ],
      "metadata": {
        "colab": {
          "base_uri": "https://localhost:8080/"
        },
        "id": "9pGvMKJxdTwm",
        "outputId": "67bec81c-893d-44ed-b486-955b63db0647"
      },
      "execution_count": null,
      "outputs": [
        {
          "output_type": "execute_result",
          "data": {
            "text/plain": [
              "[0, 0, 0, 0]"
            ]
          },
          "metadata": {},
          "execution_count": 4
        }
      ]
    },
    {
      "cell_type": "code",
      "source": [
        "x = [[0 for _ in range(1,4)] for _ in range(3)]\n",
        "x\n"
      ],
      "metadata": {
        "colab": {
          "base_uri": "https://localhost:8080/"
        },
        "id": "xLHSpDf-Wp4h",
        "outputId": "5a0c7a7f-89a1-4fff-e126-0c63c2c1bfd1"
      },
      "execution_count": null,
      "outputs": [
        {
          "output_type": "execute_result",
          "data": {
            "text/plain": [
              "[[0, 0, 0], [0, 0, 0], [0, 0, 0]]"
            ]
          },
          "metadata": {},
          "execution_count": 38
        }
      ]
    },
    {
      "cell_type": "code",
      "source": [
        "def knapsack(weights, values, capacity):\n",
        "  n = len(weights)\n",
        "  dp = [[0 for _ in range(capacity +1)]for _ in range(n+1)]  # create a zeros matrix with capacity +1 rows and n+1 cols\n",
        "\n",
        "  for i in range(1, n+1):\n",
        "    for w in range(1, capacity +1 ):\n",
        "      if weights[i-1] <= w:\n",
        "        dp[i][w] = max(values[i-1] + dp[i-1][w-weights[i-1]], dp[i-1][w])\n",
        "      else:\n",
        "        dp[i][w] = dp[i-1][w]\n",
        "  print(dp)\n",
        "  return dp[n][capacity]\n",
        "\n",
        "\n",
        "weights = [1,2,3,4]\n",
        "values = [100, 300, 350,500]\n",
        "capacity = 5\n",
        "print(\"manximum value in knapsack:\", knapsack(weights, values, capacity))"
      ],
      "metadata": {
        "colab": {
          "base_uri": "https://localhost:8080/"
        },
        "id": "mbScd1TAWhdt",
        "outputId": "15e17f62-369f-4ceb-8391-b77c5346f82d"
      },
      "execution_count": null,
      "outputs": [
        {
          "output_type": "stream",
          "name": "stdout",
          "text": [
            "[[0, 0, 0, 0, 0, 0], [0, 100, 100, 100, 100, 100], [0, 100, 300, 400, 400, 400], [0, 100, 300, 400, 450, 650], [0, 100, 300, 400, 500, 650]]\n",
            "manximum value in knapsack: 650\n"
          ]
        }
      ]
    },
    {
      "cell_type": "code",
      "source": [],
      "metadata": {
        "id": "lz4hDx3h5Cp6"
      },
      "execution_count": null,
      "outputs": []
    },
    {
      "cell_type": "code",
      "source": [
        "n = 5\n",
        "m = 5\n",
        "add = []\n",
        "for i in range(1,3):\n",
        "  for j in range(1,3):\n",
        "    print(i+j)\n"
      ],
      "metadata": {
        "colab": {
          "base_uri": "https://localhost:8080/"
        },
        "id": "9oCYYulWTXVz",
        "outputId": "a12cc5b0-3c03-4b1e-dd86-ec8ce359f317"
      },
      "execution_count": null,
      "outputs": [
        {
          "output_type": "stream",
          "name": "stdout",
          "text": [
            "2\n",
            "3\n",
            "3\n",
            "4\n"
          ]
        }
      ]
    },
    {
      "cell_type": "code",
      "source": [
        "def lcs(X, Y):\n",
        "  m = len(X)\n",
        "  n = len(Y)\n",
        "  dp = [[ 0 for _ in range(n+1)]for _ in range(m+1)]\n",
        "\n",
        "  for i in range(1, m+1):\n",
        "    for j in range(1, n+1):\n",
        "      if X[i-1] == Y[j-1]:\n",
        "        dp[i][j] = 1 + dp[i-1][j-1]\n",
        "      else:\n",
        "        dp[i][j] = max(dp[i-1][j],dp[i][j-1])\n",
        "\n",
        "  print(m,n)\n",
        "  return dp[m][n]\n",
        "\n",
        "\n",
        "X= 'AGGTAB'  #AGTB\n",
        "Y = 'GXTXAYB' #AGTB\n",
        "print('lenght of LCS:', lcs(X,Y)) #means its take what are common sequence of letters can be found in X & Y\n"
      ],
      "metadata": {
        "colab": {
          "base_uri": "https://localhost:8080/"
        },
        "id": "Dx4M8dg-NiDo",
        "outputId": "24fe20fb-06c6-457a-bcd7-c591962debea"
      },
      "execution_count": null,
      "outputs": [
        {
          "output_type": "stream",
          "name": "stdout",
          "text": [
            "[[0, 0, 0, 0, 0, 0, 0, 0], [0, 0, 0, 0, 0, 1, 1, 1], [0, 1, 1, 1, 1, 1, 1, 1], [0, 1, 1, 1, 1, 1, 1, 1], [0, 1, 1, 2, 2, 2, 2, 2], [0, 1, 1, 2, 2, 3, 3, 3], [0, 1, 1, 2, 2, 3, 3, 4]]\n",
            "lenght of LCS: 4\n"
          ]
        }
      ]
    },
    {
      "cell_type": "code",
      "source": [
        "from os import RTLD_GLOBAL\n",
        "def lcs(x,y):\n",
        "  m = len(x)\n",
        "  n = len(y)\n",
        "  dp = [[0 for _ in range(n+1)]for _ in range(m+1)]\n",
        "\n",
        "  # Convert both strings to lowercase for case-insensitive comparison\n",
        "  x_lower = x.lower()\n",
        "  y_lower = y.lower()\n",
        "\n",
        "  for i in range(1,m+1):\n",
        "    for j in range(1, n+1):\n",
        "      if x_lower[i-1] == y_lower[j-1]:\n",
        "        dp[i][j] = 1 + dp[i-1][j-1]  # 1 + diagonal value\n",
        "      else:\n",
        "        dp[i][j] = max(dp[i-1][j], dp[i][j-1])\n",
        "  return dp[m][n]\n",
        "\n",
        "\n",
        "x = 'AGGTAB'\n",
        "y = \"GXTxAYb\"\n",
        "print(\"length of LCS: \", lcs(x,y))"
      ],
      "metadata": {
        "colab": {
          "base_uri": "https://localhost:8080/"
        },
        "id": "HilsqHCK5Fqn",
        "outputId": "8b0b2598-6402-4608-eaba-a58c39c3cfff"
      },
      "execution_count": null,
      "outputs": [
        {
          "output_type": "stream",
          "name": "stdout",
          "text": [
            "length of LCS:  4\n"
          ]
        }
      ]
    },
    {
      "cell_type": "code",
      "source": [
        "def factorial(n):\n",
        "  if n == 0:\n",
        "    return n\n",
        "  elif n == 1 :\n",
        "    return n\n",
        "  else:\n",
        "      return n*factorial(n-1)\n",
        "\n",
        "factorial(5)"
      ],
      "metadata": {
        "id": "SNqkZA3T5TUw",
        "colab": {
          "base_uri": "https://localhost:8080/"
        },
        "outputId": "eaa136aa-5265-4b5f-aab0-9595576ad037"
      },
      "execution_count": null,
      "outputs": [
        {
          "output_type": "execute_result",
          "data": {
            "text/plain": [
              "120"
            ]
          },
          "metadata": {},
          "execution_count": 7
        }
      ]
    },
    {
      "cell_type": "code",
      "metadata": {
        "colab": {
          "base_uri": "https://localhost:8080/"
        },
        "id": "17669989",
        "outputId": "313656fc-3a51-457c-ea84-d72520c001ac"
      },
      "source": [
        "def factorial(n):\n",
        "  if n == 0:\n",
        "    return n\n",
        "  elif n == 1 :\n",
        "    return n\n",
        "  else:\n",
        "      return n*factorial(n-1)\n",
        "factorial(5)"
      ],
      "execution_count": null,
      "outputs": [
        {
          "output_type": "execute_result",
          "data": {
            "text/plain": [
              "120"
            ]
          },
          "metadata": {},
          "execution_count": 14
        }
      ]
    },
    {
      "cell_type": "code",
      "source": [],
      "metadata": {
        "id": "X8RGUuysw7sK"
      },
      "execution_count": null,
      "outputs": []
    },
    {
      "cell_type": "code",
      "source": [
        "def fac(n):\n",
        "  result = 1\n",
        "  for i in range(1, n+1):\n",
        "    result *= i\n",
        "  return result\n",
        "\n",
        "fac(5)"
      ],
      "metadata": {
        "colab": {
          "base_uri": "https://localhost:8080/"
        },
        "id": "-nOepq7tvFbR",
        "outputId": "e91c18f9-4f6b-49bc-c815-62bdf4b4fb1d"
      },
      "execution_count": null,
      "outputs": [
        {
          "output_type": "execute_result",
          "data": {
            "text/plain": [
              "120"
            ]
          },
          "metadata": {},
          "execution_count": 13
        }
      ]
    },
    {
      "cell_type": "code",
      "source": [
        "def fib(n):\n",
        "  if n<= 1:\n",
        "    return n\n",
        "  else:\n",
        "    return fib(n-1) + fib(n-2)\n",
        "\n",
        "fib(5)"
      ],
      "metadata": {
        "colab": {
          "base_uri": "https://localhost:8080/"
        },
        "id": "XevBMte8w9mo",
        "outputId": "e4c77b40-c851-4a00-ab56-42aa3e4b8ffc"
      },
      "execution_count": null,
      "outputs": [
        {
          "output_type": "execute_result",
          "data": {
            "text/plain": [
              "5"
            ]
          },
          "metadata": {},
          "execution_count": 16
        }
      ]
    },
    {
      "cell_type": "code",
      "source": [
        "102//10 #lower interger"
      ],
      "metadata": {
        "colab": {
          "base_uri": "https://localhost:8080/"
        },
        "id": "N9dHq1qqxrbm",
        "outputId": "54d85db1-0a39-4329-ed13-1d36e57cc2a2"
      },
      "execution_count": null,
      "outputs": [
        {
          "output_type": "execute_result",
          "data": {
            "text/plain": [
              "10"
            ]
          },
          "metadata": {},
          "execution_count": 20
        }
      ]
    },
    {
      "cell_type": "code",
      "source": [
        "1234 % 10"
      ],
      "metadata": {
        "colab": {
          "base_uri": "https://localhost:8080/"
        },
        "id": "BGymfwkxx0KR",
        "outputId": "a59ed8e9-b721-4526-e07e-2db6ec77cd35"
      },
      "execution_count": null,
      "outputs": [
        {
          "output_type": "execute_result",
          "data": {
            "text/plain": [
              "4"
            ]
          },
          "metadata": {},
          "execution_count": 32
        }
      ]
    },
    {
      "cell_type": "code",
      "source": [],
      "metadata": {
        "id": "CVKRfO-o0L0q"
      },
      "execution_count": null,
      "outputs": []
    },
    {
      "cell_type": "code",
      "source": [],
      "metadata": {
        "id": "ojpc0Que0MY_"
      },
      "execution_count": null,
      "outputs": []
    },
    {
      "cell_type": "code",
      "source": [
        "def sum_of_digits(n):\n",
        "  if n< 10:\n",
        "    return n\n",
        "  else:\n",
        "    return n % 10 + sum_of_digits(n//10)"
      ],
      "metadata": {
        "id": "uGBIg8eex93a"
      },
      "execution_count": null,
      "outputs": []
    },
    {
      "cell_type": "code",
      "source": [
        "#dynamic programming\n",
        "dic = {0 : 0,\n",
        "       1 : 1,\n",
        "       2 : 1}\n",
        "def fib(n, dic = dic):\n",
        "  if n in dic:\n",
        "    return dic[n]\n",
        "  else:\n",
        "    return fib(n-1, dic) + fib(n-2, dic)\n",
        "\n",
        "fib(4)"
      ],
      "metadata": {
        "colab": {
          "base_uri": "https://localhost:8080/"
        },
        "id": "bv54Rs-70M2z",
        "outputId": "06ca4b4d-78a0-45f4-99f4-6a3cd817643e"
      },
      "execution_count": null,
      "outputs": [
        {
          "output_type": "execute_result",
          "data": {
            "text/plain": [
              "3"
            ]
          },
          "metadata": {},
          "execution_count": 36
        }
      ]
    },
    {
      "cell_type": "code",
      "source": [
        "#tabbulation method\n",
        "def fib_s(n):\n",
        "\n",
        "  if n == 0:\n",
        "    return 0\n",
        "  elif n == 1:\n",
        "    return 1\n",
        "  fib = [0] * (n+1)\n",
        "  fib[1] = 1\n",
        "  for i in range(2, n+1):\n",
        "    fib[i] = fib[i-1] + fib[i-2]\n",
        "  return fib[n]\n",
        "\n",
        "fib_s(4)\n"
      ],
      "metadata": {
        "colab": {
          "base_uri": "https://localhost:8080/"
        },
        "id": "BAcQdHR11Bnc",
        "outputId": "a2f55650-f809-4124-acd3-2f31dafe8a9f"
      },
      "execution_count": null,
      "outputs": [
        {
          "output_type": "execute_result",
          "data": {
            "text/plain": [
              "3"
            ]
          },
          "metadata": {},
          "execution_count": 41
        }
      ]
    },
    {
      "cell_type": "code",
      "source": [
        "a = {\"reddy\"}\n",
        "b = {\"reddy\"}\n",
        "print(a-b)\n",
        "# print(b-a)\n",
        "# print(a|b)"
      ],
      "metadata": {
        "id": "oZrUHkM01SWU",
        "colab": {
          "base_uri": "https://localhost:8080/"
        },
        "outputId": "e9b2abea-6416-4804-f568-56c29baee2ae"
      },
      "execution_count": 7,
      "outputs": [
        {
          "output_type": "stream",
          "name": "stdout",
          "text": [
            "set()\n"
          ]
        }
      ]
    }
  ]
}